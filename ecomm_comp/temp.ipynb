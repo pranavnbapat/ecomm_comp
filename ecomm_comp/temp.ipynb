{
 "cells": [
  {
   "cell_type": "code",
   "execution_count": 1,
   "metadata": {
    "collapsed": true
   },
   "outputs": [],
   "source": [
    "import os\n",
    "import shutil\n",
    "import sys\n",
    "import time\n",
    "import urllib\n",
    "import urllib.request\n",
    "import re\n",
    "import requests\n",
    "import pandas as pd\n",
    "from pathlib import Path\n",
    "from dotenv import load_dotenv\n",
    "from bs4 import BeautifulSoup"
   ]
  },
  {
   "cell_type": "code",
   "execution_count": 2,
   "outputs": [],
   "source": [
    "load_dotenv()\n",
    "\n",
    "amazon_api = os.getenv('amazon_smartwatch')\n",
    "bol_api = os.getenv('bol_smartwatch')"
   ],
   "metadata": {
    "collapsed": false
   }
  },
  {
   "cell_type": "code",
   "execution_count": 3,
   "outputs": [],
   "source": [
    "def extract_data_from_html(filename):\n",
    "    soup = BeautifulSoup(open(\"temp_data/\" + filename), \"html.parser\")\n",
    "    return soup"
   ],
   "metadata": {
    "collapsed": false
   }
  },
  {
   "cell_type": "code",
   "execution_count": 38,
   "outputs": [],
   "source": [
    "def scrape_data(brand=\"samsung\"):\n",
    "    if brand is None or brand == \"\":\n",
    "        print(\"Please provide a brand name\")\n",
    "        return\n",
    "    page = 1\n",
    "    product_names_list = []\n",
    "    product_prices_list = []\n",
    "    product_link_list = []\n",
    "    product_source_list = []\n",
    "\n",
    "    # Pass headers\n",
    "    my_headers = {\n",
    "        \"User-Agent\": \"Mozilla/5.0 (Macintosh; Intel Mac OS X 10_14_3) AppleWebKit/537.36 (KHTML, like Gecko) Chrome/71.0.3578.98 Safari/537.36\",\n",
    "        \"Accept\": \"text/html,application/json,application/xhtml+xml,application/xml; q=0.9,image/webp,image/apng,*/*;q=0.8\",\n",
    "        \"Cache-Control\": \"no-cache\",\n",
    "        'Connection': 'keep-alive',\n",
    "        'Origin': 'https',\n",
    "        'Pragma': 'no-cache',\n",
    "        'Referer': 'https',\n",
    "        'Sec-Fetch-Dest': 'empty',\n",
    "        'Sec-Fetch-Mode': 'cors',\n",
    "        'Sec-Fetch-Site': 'same-origin'\n",
    "    }\n",
    "    session = requests.Session()\n",
    "\n",
    "    try:\n",
    "        while page != 10:\n",
    "            # Build URL\n",
    "            amazon_url = amazon_api + brand + \"&page=\" + str(page)\n",
    "\n",
    "            response = session.get(amazon_url, headers=my_headers)\n",
    "\n",
    "            html_soup = BeautifulSoup(response.text, 'html.parser')\n",
    "\n",
    "            soup = BeautifulSoup(str(html_soup), features='lxml')\n",
    "\n",
    "            product_info = soup.find_all(\"div\", attrs={\"data-component-type\": \"s-search-result\"})\n",
    "\n",
    "            for temp in product_info:\n",
    "                i = 1\n",
    "                # Check if price exists\n",
    "                if temp.find(\"span\", attrs={\"class\": \"a-price-whole\"}):\n",
    "                    # For product price\n",
    "                    for price in temp.find_all(\"span\", attrs={\"class\": \"a-price-whole\"}):\n",
    "                        product_prices_list.append(price.get_text())\n",
    "                        product_source_list.append(\"Amazon\")\n",
    "\n",
    "\n",
    "                    # For product name\n",
    "                    for product_name in temp.find_all(\"h2\", attrs={\"class\": \"a-size-mini a-spacing-none a-color-base s-line-clamp-4\"}):\n",
    "                        # for product_name2 in product_name.find_all(\"h2\"):\n",
    "                        product_names_list.append(product_name.get_text())\n",
    "\n",
    "                    # For product link\n",
    "                    # for product_link in temp.find_all(\"a\", attrs={\"class\": \"a-link-normal s-no-outline\"}):\n",
    "                    #     product_link_list.append(\"https://www.amazon.nl\" + product_link['href'])\n",
    "                i = i + 1\n",
    "            page = page + 1\n",
    "    except Exception as e:\n",
    "        print(e)\n",
    "\n",
    "    # page = 1\n",
    "    # bol_product_names_list = []\n",
    "    # bol_product_prices_list = []\n",
    "    # bol_product_link_list = []\n",
    "    # bol_product_source_list = []\n",
    "    # try:\n",
    "    #     while page != 100:\n",
    "    #         # Build URL\n",
    "    #         bol_url = bol_api + str(page)\n",
    "    #\n",
    "    #         response = session.get(bol_url, headers=my_headers)\n",
    "    #\n",
    "    #         html_soup = BeautifulSoup(response.text, 'html.parser')\n",
    "    #\n",
    "    #         soup = BeautifulSoup(str(html_soup), features='lxml')\n",
    "    #\n",
    "    #         product_info = soup.find_all(\"ul\", attrs={\"class\": \"list-view product-list js_multiple_basket_buttons_page\"})\n",
    "    #         for temp in product_info:\n",
    "    #             # Check if price exists\n",
    "    #             if temp.find(\"div\", attrs={\"class\": \"price-block__price\"}) and temp.find(\"div\", attrs={\"class\": \"product-title--inline\"}):\n",
    "    #                 # For product price\n",
    "    #                 for product_price in temp.find_all(\"div\", attrs={\"class\": \"price-block__price\"}):\n",
    "    #                     bol_product_prices_list.append(\n",
    "    #                         re.sub(\",-\", \"\", re.sub(\" +\", \",\", re.sub(\"\\n\", \"\", str(product_price.get_text())).strip()))\n",
    "    #                     )\n",
    "    #                     bol_product_source_list.append(\"BOL\")\n",
    "    #\n",
    "    #                 # For product name\n",
    "    #                 for product_name in temp.find_all(\"div\", attrs={\"class\": \"product-title--inline\"}):\n",
    "    #                     bol_product_names_list.append(product_name.get_text())\n",
    "    #\n",
    "    #                 # For product link\n",
    "    #                 for product_link in temp.find_all(\"a\", attrs={\n",
    "    #                     \"class\": \"product-title px_list_page_product_click list_page_product_tracking_target\"\n",
    "    #                 }):\n",
    "    #                     bol_product_link_list.append(product_link['href'])\n",
    "    #\n",
    "    #         page = page + 1\n",
    "    #         time.sleep(2)\n",
    "    # except Exception as e:\n",
    "    #     print(e)\n",
    "\n",
    "    return product_names_list, product_prices_list, product_source_list"
   ],
   "metadata": {
    "collapsed": false
   }
  },
  {
   "cell_type": "code",
   "execution_count": 39,
   "outputs": [],
   "source": [
    "product = \"smartwatch\""
   ],
   "metadata": {
    "collapsed": false
   }
  },
  {
   "cell_type": "code",
   "execution_count": 40,
   "outputs": [],
   "source": [
    "df = pd.DataFrame(columns=[\"product\", \"price\", \"link\", \"source\"])"
   ],
   "metadata": {
    "collapsed": false
   }
  },
  {
   "cell_type": "code",
   "execution_count": 41,
   "outputs": [],
   "source": [
    "product_list, price_list, source_list = scrape_data(brand=\"garmin\")"
   ],
   "metadata": {
    "collapsed": false
   }
  },
  {
   "cell_type": "code",
   "execution_count": 42,
   "outputs": [
    {
     "data": {
      "text/plain": "90"
     },
     "execution_count": 42,
     "metadata": {},
     "output_type": "execute_result"
    }
   ],
   "source": [
    "len(product_list)"
   ],
   "metadata": {
    "collapsed": false
   }
  },
  {
   "cell_type": "code",
   "execution_count": 43,
   "outputs": [
    {
     "data": {
      "text/plain": "93"
     },
     "execution_count": 43,
     "metadata": {},
     "output_type": "execute_result"
    }
   ],
   "source": [
    "len(price_list)"
   ],
   "metadata": {
    "collapsed": false
   }
  },
  {
   "cell_type": "code",
   "execution_count": 37,
   "outputs": [
    {
     "data": {
      "text/plain": "93"
     },
     "execution_count": 37,
     "metadata": {},
     "output_type": "execute_result"
    }
   ],
   "source": [
    "len(source_list)"
   ],
   "metadata": {
    "collapsed": false
   }
  },
  {
   "cell_type": "code",
   "execution_count": 14,
   "outputs": [
    {
     "ename": "ValueError",
     "evalue": "Length of values (4538) does not match length of index (4550)",
     "output_type": "error",
     "traceback": [
      "\u001B[1;31m---------------------------------------------------------------------------\u001B[0m",
      "\u001B[1;31mValueError\u001B[0m                                Traceback (most recent call last)",
      "Cell \u001B[1;32mIn[14], line 2\u001B[0m\n\u001B[0;32m      1\u001B[0m df[\u001B[38;5;124m'\u001B[39m\u001B[38;5;124mproduct\u001B[39m\u001B[38;5;124m'\u001B[39m] \u001B[38;5;241m=\u001B[39m product_list\n\u001B[1;32m----> 2\u001B[0m \u001B[43mdf\u001B[49m\u001B[43m[\u001B[49m\u001B[38;5;124;43m'\u001B[39;49m\u001B[38;5;124;43mprice\u001B[39;49m\u001B[38;5;124;43m'\u001B[39;49m\u001B[43m]\u001B[49m \u001B[38;5;241m=\u001B[39m price_list\n\u001B[0;32m      3\u001B[0m df[\u001B[38;5;124m'\u001B[39m\u001B[38;5;124msource\u001B[39m\u001B[38;5;124m'\u001B[39m] \u001B[38;5;241m=\u001B[39m source_list\n\u001B[0;32m      4\u001B[0m df[\u001B[38;5;124m'\u001B[39m\u001B[38;5;124mlink\u001B[39m\u001B[38;5;124m'\u001B[39m] \u001B[38;5;241m=\u001B[39m link_list\n",
      "File \u001B[1;32m~\\PycharmProjects\\ecomm_comp\\venv\\lib\\site-packages\\pandas\\core\\frame.py:3978\u001B[0m, in \u001B[0;36mDataFrame.__setitem__\u001B[1;34m(self, key, value)\u001B[0m\n\u001B[0;32m   3975\u001B[0m     \u001B[38;5;28mself\u001B[39m\u001B[38;5;241m.\u001B[39m_setitem_array([key], value)\n\u001B[0;32m   3976\u001B[0m \u001B[38;5;28;01melse\u001B[39;00m:\n\u001B[0;32m   3977\u001B[0m     \u001B[38;5;66;03m# set column\u001B[39;00m\n\u001B[1;32m-> 3978\u001B[0m     \u001B[38;5;28;43mself\u001B[39;49m\u001B[38;5;241;43m.\u001B[39;49m\u001B[43m_set_item\u001B[49m\u001B[43m(\u001B[49m\u001B[43mkey\u001B[49m\u001B[43m,\u001B[49m\u001B[43m \u001B[49m\u001B[43mvalue\u001B[49m\u001B[43m)\u001B[49m\n",
      "File \u001B[1;32m~\\PycharmProjects\\ecomm_comp\\venv\\lib\\site-packages\\pandas\\core\\frame.py:4172\u001B[0m, in \u001B[0;36mDataFrame._set_item\u001B[1;34m(self, key, value)\u001B[0m\n\u001B[0;32m   4162\u001B[0m \u001B[38;5;28;01mdef\u001B[39;00m \u001B[38;5;21m_set_item\u001B[39m(\u001B[38;5;28mself\u001B[39m, key, value) \u001B[38;5;241m-\u001B[39m\u001B[38;5;241m>\u001B[39m \u001B[38;5;28;01mNone\u001B[39;00m:\n\u001B[0;32m   4163\u001B[0m     \u001B[38;5;124;03m\"\"\"\u001B[39;00m\n\u001B[0;32m   4164\u001B[0m \u001B[38;5;124;03m    Add series to DataFrame in specified column.\u001B[39;00m\n\u001B[0;32m   4165\u001B[0m \n\u001B[1;32m   (...)\u001B[0m\n\u001B[0;32m   4170\u001B[0m \u001B[38;5;124;03m    ensure homogeneity.\u001B[39;00m\n\u001B[0;32m   4171\u001B[0m \u001B[38;5;124;03m    \"\"\"\u001B[39;00m\n\u001B[1;32m-> 4172\u001B[0m     value \u001B[38;5;241m=\u001B[39m \u001B[38;5;28;43mself\u001B[39;49m\u001B[38;5;241;43m.\u001B[39;49m\u001B[43m_sanitize_column\u001B[49m\u001B[43m(\u001B[49m\u001B[43mvalue\u001B[49m\u001B[43m)\u001B[49m\n\u001B[0;32m   4174\u001B[0m     \u001B[38;5;28;01mif\u001B[39;00m (\n\u001B[0;32m   4175\u001B[0m         key \u001B[38;5;129;01min\u001B[39;00m \u001B[38;5;28mself\u001B[39m\u001B[38;5;241m.\u001B[39mcolumns\n\u001B[0;32m   4176\u001B[0m         \u001B[38;5;129;01mand\u001B[39;00m value\u001B[38;5;241m.\u001B[39mndim \u001B[38;5;241m==\u001B[39m \u001B[38;5;241m1\u001B[39m\n\u001B[0;32m   4177\u001B[0m         \u001B[38;5;129;01mand\u001B[39;00m \u001B[38;5;129;01mnot\u001B[39;00m is_extension_array_dtype(value)\n\u001B[0;32m   4178\u001B[0m     ):\n\u001B[0;32m   4179\u001B[0m         \u001B[38;5;66;03m# broadcast across multiple columns if necessary\u001B[39;00m\n\u001B[0;32m   4180\u001B[0m         \u001B[38;5;28;01mif\u001B[39;00m \u001B[38;5;129;01mnot\u001B[39;00m \u001B[38;5;28mself\u001B[39m\u001B[38;5;241m.\u001B[39mcolumns\u001B[38;5;241m.\u001B[39mis_unique \u001B[38;5;129;01mor\u001B[39;00m \u001B[38;5;28misinstance\u001B[39m(\u001B[38;5;28mself\u001B[39m\u001B[38;5;241m.\u001B[39mcolumns, MultiIndex):\n",
      "File \u001B[1;32m~\\PycharmProjects\\ecomm_comp\\venv\\lib\\site-packages\\pandas\\core\\frame.py:4912\u001B[0m, in \u001B[0;36mDataFrame._sanitize_column\u001B[1;34m(self, value)\u001B[0m\n\u001B[0;32m   4909\u001B[0m     \u001B[38;5;28;01mreturn\u001B[39;00m _reindex_for_setitem(Series(value), \u001B[38;5;28mself\u001B[39m\u001B[38;5;241m.\u001B[39mindex)\n\u001B[0;32m   4911\u001B[0m \u001B[38;5;28;01mif\u001B[39;00m is_list_like(value):\n\u001B[1;32m-> 4912\u001B[0m     \u001B[43mcom\u001B[49m\u001B[38;5;241;43m.\u001B[39;49m\u001B[43mrequire_length_match\u001B[49m\u001B[43m(\u001B[49m\u001B[43mvalue\u001B[49m\u001B[43m,\u001B[49m\u001B[43m \u001B[49m\u001B[38;5;28;43mself\u001B[39;49m\u001B[38;5;241;43m.\u001B[39;49m\u001B[43mindex\u001B[49m\u001B[43m)\u001B[49m\n\u001B[0;32m   4913\u001B[0m \u001B[38;5;28;01mreturn\u001B[39;00m sanitize_array(value, \u001B[38;5;28mself\u001B[39m\u001B[38;5;241m.\u001B[39mindex, copy\u001B[38;5;241m=\u001B[39m\u001B[38;5;28;01mTrue\u001B[39;00m, allow_2d\u001B[38;5;241m=\u001B[39m\u001B[38;5;28;01mTrue\u001B[39;00m)\n",
      "File \u001B[1;32m~\\PycharmProjects\\ecomm_comp\\venv\\lib\\site-packages\\pandas\\core\\common.py:561\u001B[0m, in \u001B[0;36mrequire_length_match\u001B[1;34m(data, index)\u001B[0m\n\u001B[0;32m    557\u001B[0m \u001B[38;5;124;03m\"\"\"\u001B[39;00m\n\u001B[0;32m    558\u001B[0m \u001B[38;5;124;03mCheck the length of data matches the length of the index.\u001B[39;00m\n\u001B[0;32m    559\u001B[0m \u001B[38;5;124;03m\"\"\"\u001B[39;00m\n\u001B[0;32m    560\u001B[0m \u001B[38;5;28;01mif\u001B[39;00m \u001B[38;5;28mlen\u001B[39m(data) \u001B[38;5;241m!=\u001B[39m \u001B[38;5;28mlen\u001B[39m(index):\n\u001B[1;32m--> 561\u001B[0m     \u001B[38;5;28;01mraise\u001B[39;00m \u001B[38;5;167;01mValueError\u001B[39;00m(\n\u001B[0;32m    562\u001B[0m         \u001B[38;5;124m\"\u001B[39m\u001B[38;5;124mLength of values \u001B[39m\u001B[38;5;124m\"\u001B[39m\n\u001B[0;32m    563\u001B[0m         \u001B[38;5;124mf\u001B[39m\u001B[38;5;124m\"\u001B[39m\u001B[38;5;124m(\u001B[39m\u001B[38;5;132;01m{\u001B[39;00m\u001B[38;5;28mlen\u001B[39m(data)\u001B[38;5;132;01m}\u001B[39;00m\u001B[38;5;124m) \u001B[39m\u001B[38;5;124m\"\u001B[39m\n\u001B[0;32m    564\u001B[0m         \u001B[38;5;124m\"\u001B[39m\u001B[38;5;124mdoes not match length of index \u001B[39m\u001B[38;5;124m\"\u001B[39m\n\u001B[0;32m    565\u001B[0m         \u001B[38;5;124mf\u001B[39m\u001B[38;5;124m\"\u001B[39m\u001B[38;5;124m(\u001B[39m\u001B[38;5;132;01m{\u001B[39;00m\u001B[38;5;28mlen\u001B[39m(index)\u001B[38;5;132;01m}\u001B[39;00m\u001B[38;5;124m)\u001B[39m\u001B[38;5;124m\"\u001B[39m\n\u001B[0;32m    566\u001B[0m     )\n",
      "\u001B[1;31mValueError\u001B[0m: Length of values (4538) does not match length of index (4550)"
     ]
    }
   ],
   "source": [
    "df['product'] = product_list\n",
    "df['price'] = price_list\n",
    "df['source'] = source_list\n",
    "# df['link'] = link_list"
   ],
   "metadata": {
    "collapsed": false
   }
  },
  {
   "cell_type": "code",
   "execution_count": null,
   "outputs": [],
   "source": [],
   "metadata": {
    "collapsed": false
   }
  }
 ],
 "metadata": {
  "kernelspec": {
   "display_name": "Python 3",
   "language": "python",
   "name": "python3"
  },
  "language_info": {
   "codemirror_mode": {
    "name": "ipython",
    "version": 2
   },
   "file_extension": ".py",
   "mimetype": "text/x-python",
   "name": "python",
   "nbconvert_exporter": "python",
   "pygments_lexer": "ipython2",
   "version": "2.7.6"
  }
 },
 "nbformat": 4,
 "nbformat_minor": 0
}
